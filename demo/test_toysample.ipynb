{
 "cells": [
  {
   "cell_type": "markdown",
   "metadata": {},
   "source": [
    "## A simple IFR example"
   ]
  },
  {
   "cell_type": "markdown",
   "metadata": {},
   "source": [
    "Load packages."
   ]
  },
  {
   "cell_type": "code",
   "execution_count": 15,
   "metadata": {},
   "outputs": [],
   "source": [
    "import os\n",
    "import sys\n",
    "import numpy as np\n",
    "import torch\n",
    "\n",
    "sys.path.insert(0, '../')\n",
    "from ifr import IFR\n",
    "import utils"
   ]
  },
  {
   "cell_type": "code",
   "execution_count": 16,
   "metadata": {},
   "outputs": [],
   "source": [
    "ifr_model = IFR(scale=2, maxiter=20,zero_mean=True,\n",
    "                trunc=True,rand_pa=False, kp_nb=False,encoder_id=4)"
   ]
  },
  {
   "cell_type": "code",
   "execution_count": 17,
   "metadata": {},
   "outputs": [
    {
     "name": "stdout",
     "output_type": "stream",
     "text": [
      "GT Transform tensor([[[ 0.7150, -0.6970, -0.0543, -0.4716],\n",
      "         [ 0.5443,  0.6037, -0.5824,  0.4599],\n",
      "         [ 0.4388,  0.3868,  0.8111, -0.4687],\n",
      "         [ 0.0000,  0.0000,  0.0000,  1.0000]]], dtype=torch.float64)\n"
     ]
    }
   ],
   "source": [
    "def do_transform(p0, x):\n",
    "    # p0: [N, 3]\n",
    "    # x: [1, 6], twist-params\n",
    "    g = utils.exp(x).to(p0) # [1, 4, 4]\n",
    "    p1 = utils.transform(g, p0)\n",
    "    igt = g.squeeze(0) # igt: p0 -> p1\n",
    "    return p1, igt\n",
    "\n",
    "\n",
    "# load data\n",
    "p0 = np.load('./p0.npy')\n",
    "p1 = np.load('./p1.npy')\n",
    "\n",
    "# randomly set the twist parameters for the ground truth pose\n",
    "x = np.array([[0.57, -0.29, 0.73, -0.37, 0.48, -0.54]])\n",
    "\n",
    "p1_pre, igt = do_transform(torch.from_numpy(p1[np.newaxis,...]), torch.from_numpy(x)[np.newaxis,...])\n",
    "p1_pre = p1_pre.numpy()[0,:,:]\n",
    "print('GT Transform', igt)"
   ]
  },
  {
   "cell_type": "code",
   "execution_count": 18,
   "metadata": {
    "scrolled": false
   },
   "outputs": [
    {
     "name": "stdout",
     "output_type": "stream",
     "text": [
      "Input Shape without downsample (103974, 3) (76241, 3)\n",
      "Transform back:\n",
      " [[ 0.7021648   0.55477244  0.446309    0.31933507]\n",
      " [-0.71055853  0.5860416   0.38943765 -0.41371375]\n",
      " [-0.04550641 -0.590578    0.8056965   0.64275825]\n",
      " [ 0.          0.          0.          1.        ]]\n",
      "Error Matrix:\n",
      " [[ 9.99834977e-01  1.81426755e-02  6.99938656e-04  3.41444511e-02]\n",
      " [-1.81502537e-02  9.99748879e-01  1.31395401e-02  8.33123176e-03]\n",
      " [-4.61194321e-04 -1.31498695e-02  9.99913461e-01  1.50140751e-02]\n",
      " [ 0.00000000e+00  0.00000000e+00  0.00000000e+00  1.00000000e+00]]\n"
     ]
    }
   ],
   "source": [
    "print('Input Shape without downsample', p0.shape, p1_pre.shape)\n",
    "estimated_pose = ifr_model.register(p0, p1_pre)[0,:,:]\n",
    "print('Transform back:\\n',estimated_pose)\n",
    "\n",
    "print('Error Matrix:\\n', estimated_pose@igt.numpy()[0,:,:])"
   ]
  },
  {
   "cell_type": "code",
   "execution_count": 19,
   "metadata": {},
   "outputs": [],
   "source": [
    "# vis (visualization is on downsampled for fast draw)\n",
    "p0_hat = (estimated_pose[:3,:3]@p1_pre.T+estimated_pose[:3,(3,)]).T\n",
    "\n",
    "import ipyvolume as ipv\n",
    "\n",
    "def plot(x1,x2):\n",
    "    fig = ipv.figure()\n",
    "    scatter = ipv.scatter(x1[:,0], x1[:,1], x1[:,2],np.array([255,0,0]))\n",
    "    scatter = ipv.scatter(x2[:,0], x2[:,1], x2[:,2],np.array([0,0,255]))\n",
    "    ipv.show()"
   ]
  },
  {
   "cell_type": "code",
   "execution_count": 20,
   "metadata": {},
   "outputs": [
    {
     "data": {
      "application/vnd.jupyter.widget-view+json": {
       "model_id": "bb8f338296e34de29e2330cabb975d19",
       "version_major": 2,
       "version_minor": 0
      },
      "text/plain": [
       "VBox(children=(Figure(camera=PerspectiveCamera(fov=46.0, position=(0.0, 0.0, 2.0), projectionMatrix=(1.0, 0.0,…"
      ]
     },
     "metadata": {},
     "output_type": "display_data"
    },
    {
     "data": {
      "application/vnd.jupyter.widget-view+json": {
       "model_id": "afe18b413ee349cc9fd8c31a580290c6",
       "version_major": 2,
       "version_minor": 0
      },
      "text/plain": [
       "VBox(children=(Figure(camera=PerspectiveCamera(fov=46.0, position=(0.0, 0.0, 2.0), projectionMatrix=(1.0, 0.0,…"
      ]
     },
     "metadata": {},
     "output_type": "display_data"
    }
   ],
   "source": [
    "plot(p0, p1_pre)\n",
    "plot(p0, p0_hat)"
   ]
  },
  {
   "cell_type": "code",
   "execution_count": null,
   "metadata": {},
   "outputs": [],
   "source": []
  }
 ],
 "metadata": {
  "kernelspec": {
   "display_name": "Python 3",
   "language": "python",
   "name": "python3"
  },
  "language_info": {
   "codemirror_mode": {
    "name": "ipython",
    "version": 3
   },
   "file_extension": ".py",
   "mimetype": "text/x-python",
   "name": "python",
   "nbconvert_exporter": "python",
   "pygments_lexer": "ipython3",
   "version": "3.6.13"
  }
 },
 "nbformat": 4,
 "nbformat_minor": 2
}
